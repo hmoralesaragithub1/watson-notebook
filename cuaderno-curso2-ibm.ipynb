{
    "cells": [
        {
            "metadata": {},
            "cell_type": "markdown",
            "source": "# World cup data"
        },
        {
            "metadata": {},
            "cell_type": "code",
            "source": "\nimport os, types\nimport pandas as pd\nfrom botocore.client import Config\nimport ibm_boto3\n\ndef __iter__(self): return 0\n\n# @hidden_cell\n# The following code accesses a file in your IBM Cloud Object Storage. It includes your credentials.\n# You might want to remove those credentials before you share the notebook.\nclient_6ede68f1cf8f4bc0b4cfd76d87a07d29 = ibm_boto3.client(service_name='s3',\n    ibm_api_key_id='hVcedmUG4ocrYI-6gVeE9yEhQwC-ohPhl37v86T4ZVAA',\n    ibm_auth_endpoint=\"https://iam.cloud.ibm.com/oidc/token\",\n    config=Config(signature_version='oauth'),\n    endpoint_url='https://s3.private.us.cloud-object-storage.appdomain.cloud')\n\nbody = client_6ede68f1cf8f4bc0b4cfd76d87a07d29.get_object(Bucket='curso2ibm-donotdelete-pr-sjcuerhi0cignu',Key='World Cup 2018 Dataset.csv')['Body']\n# add missing __iter__ method, so pandas accepts body as file-like object\nif not hasattr(body, \"__iter__\"): body.__iter__ = types.MethodType( __iter__, body )\n\ndf_data_1 = pd.read_csv(body)\ndf_data_1.head()\n",
            "execution_count": 1,
            "outputs": [
                {
                    "output_type": "execute_result",
                    "execution_count": 1,
                    "data": {
                        "text/plain": "           Team Group  Previous \\nappearances  Previous \\ntitles  \\\n0        Russia     A                    10.0                0.0   \n1  Saudi Arabia     A                     4.0                0.0   \n2         Egypt     A                     2.0                0.0   \n3       Uruguay     A                    12.0                2.0   \n4       Porugal     B                     6.0                0.0   \n\n   Previous\\n finals  Previous\\n semifinals  Current \\nFIFA rank  \\\n0                0.0                    1.0                 65.0   \n1                0.0                    0.0                 63.0   \n2                0.0                    0.0                 31.0   \n3                2.0                    5.0                 21.0   \n4                0.0                    2.0                  3.0   \n\n  First match \\nagainst  Match index  history with \\nfirst opponent\\n W-L  \\\n0          Saudi Arabia          1.0                                 -1.0   \n1                Russia          1.0                                  1.0   \n2               Uruguay          2.0                                 -1.0   \n3                 Egypt          2.0                                  1.0   \n4                 Spain          3.0                                -12.0   \n\n   history with\\n first opponent\\n goals Second match\\n against  \\\n0                                   -2.0                  Egypt   \n1                                    2.0                Uruguay   \n2                                   -2.0                 Russia   \n3                                    2.0           Saudi Arabia   \n4                                  -31.0                Morocco   \n\n   Match index.1  history with\\n second opponent\\n W-L  \\\n0           17.0                                   NaN   \n1           18.0                                   1.0   \n2           17.0                                   NaN   \n3           18.0                                  -1.0   \n4           19.0                                  -1.0   \n\n   history with\\n second opponent\\n goals Third match\\n against  \\\n0                                     NaN               Uruguay   \n1                                     1.0                 Egypt   \n2                                     NaN          Saudi Arabia   \n3                                    -1.0                Russia   \n4                                    -2.0                  Iran   \n\n   Match index.2  history with\\n third opponent\\n W-L  \\\n0           33.0                                  0.0   \n1           34.0                                 -5.0   \n2           34.0                                  5.0   \n3           33.0                                  0.0   \n4           35.0                                  2.0   \n\n   history with\\n third opponent\\n goals  Unnamed: 19  \n0                                    0.0          NaN  \n1                                   -5.0          NaN  \n2                                    5.0          NaN  \n3                                    0.0          NaN  \n4                                    5.0          NaN  ",
                        "text/html": "<div>\n<style scoped>\n    .dataframe tbody tr th:only-of-type {\n        vertical-align: middle;\n    }\n\n    .dataframe tbody tr th {\n        vertical-align: top;\n    }\n\n    .dataframe thead th {\n        text-align: right;\n    }\n</style>\n<table border=\"1\" class=\"dataframe\">\n  <thead>\n    <tr style=\"text-align: right;\">\n      <th></th>\n      <th>Team</th>\n      <th>Group</th>\n      <th>Previous \\nappearances</th>\n      <th>Previous \\ntitles</th>\n      <th>Previous\\n finals</th>\n      <th>Previous\\n semifinals</th>\n      <th>Current \\nFIFA rank</th>\n      <th>First match \\nagainst</th>\n      <th>Match index</th>\n      <th>history with \\nfirst opponent\\n W-L</th>\n      <th>history with\\n first opponent\\n goals</th>\n      <th>Second match\\n against</th>\n      <th>Match index.1</th>\n      <th>history with\\n second opponent\\n W-L</th>\n      <th>history with\\n second opponent\\n goals</th>\n      <th>Third match\\n against</th>\n      <th>Match index.2</th>\n      <th>history with\\n third opponent\\n W-L</th>\n      <th>history with\\n third opponent\\n goals</th>\n      <th>Unnamed: 19</th>\n    </tr>\n  </thead>\n  <tbody>\n    <tr>\n      <th>0</th>\n      <td>Russia</td>\n      <td>A</td>\n      <td>10.0</td>\n      <td>0.0</td>\n      <td>0.0</td>\n      <td>1.0</td>\n      <td>65.0</td>\n      <td>Saudi Arabia</td>\n      <td>1.0</td>\n      <td>-1.0</td>\n      <td>-2.0</td>\n      <td>Egypt</td>\n      <td>17.0</td>\n      <td>NaN</td>\n      <td>NaN</td>\n      <td>Uruguay</td>\n      <td>33.0</td>\n      <td>0.0</td>\n      <td>0.0</td>\n      <td>NaN</td>\n    </tr>\n    <tr>\n      <th>1</th>\n      <td>Saudi Arabia</td>\n      <td>A</td>\n      <td>4.0</td>\n      <td>0.0</td>\n      <td>0.0</td>\n      <td>0.0</td>\n      <td>63.0</td>\n      <td>Russia</td>\n      <td>1.0</td>\n      <td>1.0</td>\n      <td>2.0</td>\n      <td>Uruguay</td>\n      <td>18.0</td>\n      <td>1.0</td>\n      <td>1.0</td>\n      <td>Egypt</td>\n      <td>34.0</td>\n      <td>-5.0</td>\n      <td>-5.0</td>\n      <td>NaN</td>\n    </tr>\n    <tr>\n      <th>2</th>\n      <td>Egypt</td>\n      <td>A</td>\n      <td>2.0</td>\n      <td>0.0</td>\n      <td>0.0</td>\n      <td>0.0</td>\n      <td>31.0</td>\n      <td>Uruguay</td>\n      <td>2.0</td>\n      <td>-1.0</td>\n      <td>-2.0</td>\n      <td>Russia</td>\n      <td>17.0</td>\n      <td>NaN</td>\n      <td>NaN</td>\n      <td>Saudi Arabia</td>\n      <td>34.0</td>\n      <td>5.0</td>\n      <td>5.0</td>\n      <td>NaN</td>\n    </tr>\n    <tr>\n      <th>3</th>\n      <td>Uruguay</td>\n      <td>A</td>\n      <td>12.0</td>\n      <td>2.0</td>\n      <td>2.0</td>\n      <td>5.0</td>\n      <td>21.0</td>\n      <td>Egypt</td>\n      <td>2.0</td>\n      <td>1.0</td>\n      <td>2.0</td>\n      <td>Saudi Arabia</td>\n      <td>18.0</td>\n      <td>-1.0</td>\n      <td>-1.0</td>\n      <td>Russia</td>\n      <td>33.0</td>\n      <td>0.0</td>\n      <td>0.0</td>\n      <td>NaN</td>\n    </tr>\n    <tr>\n      <th>4</th>\n      <td>Porugal</td>\n      <td>B</td>\n      <td>6.0</td>\n      <td>0.0</td>\n      <td>0.0</td>\n      <td>2.0</td>\n      <td>3.0</td>\n      <td>Spain</td>\n      <td>3.0</td>\n      <td>-12.0</td>\n      <td>-31.0</td>\n      <td>Morocco</td>\n      <td>19.0</td>\n      <td>-1.0</td>\n      <td>-2.0</td>\n      <td>Iran</td>\n      <td>35.0</td>\n      <td>2.0</td>\n      <td>5.0</td>\n      <td>NaN</td>\n    </tr>\n  </tbody>\n</table>\n</div>"
                    },
                    "metadata": {}
                }
            ]
        },
        {
            "metadata": {},
            "cell_type": "code",
            "source": "",
            "execution_count": null,
            "outputs": []
        }
    ],
    "metadata": {
        "kernelspec": {
            "name": "python3",
            "display_name": "Python 3.8",
            "language": "python"
        },
        "language_info": {
            "name": "python",
            "version": "3.8.12",
            "mimetype": "text/x-python",
            "codemirror_mode": {
                "name": "ipython",
                "version": 3
            },
            "pygments_lexer": "ipython3",
            "nbconvert_exporter": "python",
            "file_extension": ".py"
        }
    },
    "nbformat": 4,
    "nbformat_minor": 1
}